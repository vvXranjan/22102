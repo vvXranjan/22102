{
  "nbformat": 4,
  "nbformat_minor": 0,
  "metadata": {
    "colab": {
      "provenance": []
    },
    "kernelspec": {
      "name": "python3",
      "display_name": "Python 3"
    },
    "language_info": {
      "name": "python"
    }
  },
  "cells": [
    {
      "cell_type": "code",
      "execution_count": 1,
      "metadata": {
        "colab": {
          "base_uri": "https://localhost:8080/"
        },
        "id": "-7mZAkfXu0pi",
        "outputId": "89493726-fe14-4767-f734-445794862b85"
      },
      "outputs": [
        {
          "output_type": "stream",
          "name": "stdout",
          "text": [
            "Encrypted Text: GYIZKOKCGC\n"
          ]
        }
      ],
      "source": [
        "# Playfair Cipher in Python\n",
        "\n",
        "# Playfair Cipher Implementation\n",
        "\n",
        "def create_playfair_matrix(key):\n",
        "    # Create a 5x5 matrix using the key\n",
        "    matrix = []\n",
        "    seen = set()\n",
        "    key = key.upper().replace(\"J\", \"I\")  # Replace 'J' with 'I'\n",
        "\n",
        "    # Add unique characters from the key\n",
        "    for char in key:\n",
        "        if char not in seen and char.isalpha():\n",
        "            seen.add(char)\n",
        "            matrix.append(char)\n",
        "\n",
        "    # Fill the matrix with remaining letters\n",
        "    for char in \"ABCDEFGHIKLMNOPQRSTUVWXYZ\":\n",
        "        if char not in seen:\n",
        "            matrix.append(char)\n",
        "\n",
        "    # Convert the list into a 5x5 matrix\n",
        "    return [matrix[i:i + 5] for i in range(0, 25, 5)]\n",
        "\n",
        "def find_position(matrix, char):\n",
        "    # Find the row and column of a character in the matrix\n",
        "    for row in range(5):\n",
        "        for col in range(5):\n",
        "            if matrix[row][col] == char:\n",
        "                return row, col\n",
        "\n",
        "def playfair_encrypt(text, matrix):\n",
        "    text = text.upper().replace(\"J\", \"I\").replace(\" \", \"\")\n",
        "    encrypted_text = \"\"\n",
        "    i = 0\n",
        "\n",
        "    # Iterate through pairs of characters\n",
        "    while i < len(text):\n",
        "        a = text[i]\n",
        "        b = text[i + 1] if i + 1 < len(text) else 'X'\n",
        "        if a == b:\n",
        "            b = 'X'\n",
        "\n",
        "        row_a, col_a = find_position(matrix, a)\n",
        "        row_b, col_b = find_position(matrix, b)\n",
        "\n",
        "        # Apply Playfair rules\n",
        "        if row_a == row_b:\n",
        "            encrypted_text += matrix[row_a][(col_a + 1) % 5]\n",
        "            encrypted_text += matrix[row_b][(col_b + 1) % 5]\n",
        "        elif col_a == col_b:\n",
        "            encrypted_text += matrix[(row_a + 1) % 5][col_a]\n",
        "            encrypted_text += matrix[(row_b + 1) % 5][col_b]\n",
        "        else:\n",
        "            encrypted_text += matrix[row_a][col_b]\n",
        "            encrypted_text += matrix[row_b][col_a]\n",
        "\n",
        "        i += 2\n",
        "\n",
        "    return encrypted_text\n",
        "\n",
        "# Example usage\n",
        "key = \"KEYWORD\"\n",
        "text = \"HELLO WORLD\"\n",
        "matrix = create_playfair_matrix(key)\n",
        "encrypted_text = playfair_encrypt(text, matrix)\n",
        "print(f\"Encrypted Text: {encrypted_text}\")\n"
      ]
    },
    {
      "cell_type": "code",
      "source": [
        "# Playfair Cipher in Python\n",
        "\n",
        "def create_playfair_matrix(key):\n",
        "    matrix = []\n",
        "    seen = set()\n",
        "    key = key.upper().replace(\"J\", \"I\")  # Replace 'J' with 'I'\n",
        "\n",
        "    # Add key characters to the matrix\n",
        "    for char in key:\n",
        "        if char not in seen and char.isalpha():\n",
        "            seen.add(char)\n",
        "            matrix.append(char)\n",
        "\n",
        "    # Fill matrix with remaining letters\n",
        "    for char in \"ABCDEFGHIKLMNOPQRSTUVWXYZ\":\n",
        "        if char not in seen:\n",
        "            matrix.append(char)\n",
        "\n",
        "    # Convert to 5x5 matrix\n",
        "    matrix = [matrix[i:i + 5] for i in range(0, 25, 5)]\n",
        "    return matrix\n",
        "\n",
        "def find_position(matrix, char):\n",
        "    # Find the row and column of a character in the matrix\n",
        "    for row in range(5):\n",
        "        for col in range(5):\n",
        "            if matrix[row][col] == char:\n",
        "                return row, col\n",
        "\n",
        "def playfair_encrypt(text, matrix):\n",
        "    text = text.upper().replace(\"J\", \"I\")\n",
        "    encrypted_text = \"\"\n",
        "\n",
        "    # Iterate through text pairs\n",
        "    i = 0\n",
        "    while i < len(text):\n",
        "        a = text[i]\n",
        "        b = text[i + 1] if i + 1 < len(text) else 'X'\n",
        "        if a == b:\n",
        "            b = 'X'\n",
        "        row_a, col_a = find_position(matrix, a)\n",
        "        row_b, col_b = find_position(matrix, b)\n",
        "\n",
        "        # Apply Playfair Cipher rules\n",
        "        if row_a == row_b:\n",
        "            encrypted_text += matrix[row_a][(col_a + 1) % 5]\n",
        "            encrypted_text += matrix[row_b][(col_b + 1) % 5]\n",
        "        elif col_a == col_b:\n",
        "            encrypted_text += matrix[(row_a + 1) % 5][col_a]\n",
        "            encrypted_text += matrix[(row_b + 1) % 5][col_b]\n",
        "        else:\n",
        "            encrypted_text += matrix[row_a][col_b]\n",
        "            encrypted_text += matrix[row_b][col_a]\n",
        "\n",
        "        i += 2\n",
        "\n",
        "    return encrypted_text\n",
        "\n",
        "# Example usage\n",
        "key = \"KEYWORD\"\n",
        "text = \"HELLO\"\n",
        "matrix = create_playfair_matrix(key)\n",
        "encrypted = playfair_encrypt(text, matrix)\n",
        "print(f\"Encrypted Text: {encrypted}\")\n"
      ],
      "metadata": {
        "colab": {
          "base_uri": "https://localhost:8080/"
        },
        "id": "8xiZlG5Fu7S2",
        "outputId": "eaa505f7-d574-419a-ee2e-2c16fafaeac3"
      },
      "execution_count": 2,
      "outputs": [
        {
          "output_type": "stream",
          "name": "stdout",
          "text": [
            "Encrypted Text: GYIZWZ\n"
          ]
        }
      ]
    },
    {
      "cell_type": "code",
      "source": [
        "#2. Hill Cipher (Python)\n",
        "\n",
        "import numpy as np\n",
        "\n",
        "def hill_encrypt(message, key_matrix):\n",
        "    # Convert message to numerical values (A=0, B=1, ..., Z=25)\n",
        "    message_vector = [ord(char) - 65 for char in message.upper()]\n",
        "    message_vector = np.array(message_vector).reshape(-1, len(key_matrix))\n",
        "\n",
        "    # Encrypt by matrix multiplication\n",
        "    cipher_matrix = (np.dot(message_vector, key_matrix) % 26).flatten()\n",
        "    encrypted_text = ''.join([chr(num + 65) for num in cipher_matrix])\n",
        "\n",
        "    return encrypted_text\n",
        "\n",
        "# Example usage\n",
        "key_matrix = np.array([[6, 24], [1, 13]])  # 2x2 key matrix\n",
        "message = \"HI\"\n",
        "encrypted = hill_encrypt(message, key_matrix)\n",
        "print(f\"Encrypted Text: {encrypted}\")\n",
        "\n"
      ],
      "metadata": {
        "colab": {
          "base_uri": "https://localhost:8080/"
        },
        "id": "RJUXXWVFu-n2",
        "outputId": "d38aa393-3677-4274-c6ac-cf94dd81847f"
      },
      "execution_count": 20,
      "outputs": [
        {
          "output_type": "stream",
          "name": "stdout",
          "text": [
            "Encrypted Text: YM\n"
          ]
        }
      ]
    },
    {
      "cell_type": "code",
      "source": [
        "#3 Keyless Transposition Cipher\n",
        "def keyless_transposition_encrypt(text):\n",
        "    # Split text into even and odd indexed characters\n",
        "    even_chars = text[0::2]\n",
        "    odd_chars = text[1::2]\n",
        "    return even_chars + odd_chars\n",
        "\n",
        "# Example usage\n",
        "text = \"HELLO\"\n",
        "encrypted_text = keyless_transposition_encrypt(text)\n",
        "print(f\"Encrypted Text: {encrypted_text}\")\n"
      ],
      "metadata": {
        "colab": {
          "base_uri": "https://localhost:8080/"
        },
        "id": "EdDVvqLPvlCe",
        "outputId": "44d9a20f-2165-4776-9920-250be8ed3e3e"
      },
      "execution_count": 4,
      "outputs": [
        {
          "output_type": "stream",
          "name": "stdout",
          "text": [
            "Encrypted Text: HLOEL\n"
          ]
        }
      ]
    },
    {
      "cell_type": "code",
      "source": [
        "#4. Additive Cipher (Python)\n",
        "def additive_encrypt(text, shift):\n",
        "    encrypted_text = \"\"\n",
        "    for char in text.upper():\n",
        "        if char.isalpha():\n",
        "            encrypted_text += chr(((ord(char) - 65 + shift) % 26) + 65)\n",
        "    return encrypted_text\n",
        "\n",
        "# Example usage\n",
        "text = \"HELLO\"\n",
        "shift = 3\n",
        "encrypted = additive_encrypt(text, shift)\n",
        "print(f\"Encrypted Text: {encrypted}\")\n"
      ],
      "metadata": {
        "colab": {
          "base_uri": "https://localhost:8080/"
        },
        "id": "pHLtafDQvMIG",
        "outputId": "78bd3b62-e01b-4d65-bb91-62c30126c633"
      },
      "execution_count": 5,
      "outputs": [
        {
          "output_type": "stream",
          "name": "stdout",
          "text": [
            "Encrypted Text: KHOOR\n"
          ]
        }
      ]
    },
    {
      "cell_type": "code",
      "source": [
        "#5. Key Generation Algorithm of DES (Python Skeleton)\n",
        "def des_key_generation(key):\n",
        "    # Placeholder for key generation logic\n",
        "    # Perform permutations and shifts to generate subkeys\n",
        "    subkeys = [\"Subkey1\", \"Subkey2\", \"Subkey3\"]\n",
        "    return subkeys\n",
        "\n",
        "# Example usage\n",
        "key = \"133457799BBCDFF1\"\n",
        "subkeys = des_key_generation(key)\n",
        "print(f\"Generated Subkeys: {subkeys}\")\n"
      ],
      "metadata": {
        "colab": {
          "base_uri": "https://localhost:8080/"
        },
        "id": "FM_N5a08vqbQ",
        "outputId": "21588c43-8b41-4fa1-b2fd-2b103d611bee"
      },
      "execution_count": 6,
      "outputs": [
        {
          "output_type": "stream",
          "name": "stdout",
          "text": [
            "Generated Subkeys: ['Subkey1', 'Subkey2', 'Subkey3']\n"
          ]
        }
      ]
    },
    {
      "cell_type": "code",
      "source": [
        "pip install pycryptodome\n"
      ],
      "metadata": {
        "colab": {
          "base_uri": "https://localhost:8080/"
        },
        "id": "XAR1wnryw1Xo",
        "outputId": "29eeab5d-05ab-4c9b-fd70-7a1efe49a236"
      },
      "execution_count": 12,
      "outputs": [
        {
          "output_type": "stream",
          "name": "stdout",
          "text": [
            "Collecting pycryptodome\n",
            "  Downloading pycryptodome-3.21.0-cp36-abi3-manylinux_2_17_x86_64.manylinux2014_x86_64.whl.metadata (3.4 kB)\n",
            "Downloading pycryptodome-3.21.0-cp36-abi3-manylinux_2_17_x86_64.manylinux2014_x86_64.whl (2.3 MB)\n",
            "\u001b[?25l   \u001b[90m━━━━━━━━━━━━━━━━━━━━━━━━━━━━━━━━━━━━━━━━\u001b[0m \u001b[32m0.0/2.3 MB\u001b[0m \u001b[31m?\u001b[0m eta \u001b[36m-:--:--\u001b[0m\r\u001b[2K   \u001b[91m━━━\u001b[0m\u001b[91m╸\u001b[0m\u001b[90m━━━━━━━━━━━━━━━━━━━━━━━━━━━━━━━━━━━━\u001b[0m \u001b[32m0.2/2.3 MB\u001b[0m \u001b[31m6.2 MB/s\u001b[0m eta \u001b[36m0:00:01\u001b[0m\r\u001b[2K   \u001b[91m━━━━━━━━━━━━━━━━━━━━━━━━━━━━━━━━━━━━━━━\u001b[0m\u001b[91m╸\u001b[0m \u001b[32m2.3/2.3 MB\u001b[0m \u001b[31m33.4 MB/s\u001b[0m eta \u001b[36m0:00:01\u001b[0m\r\u001b[2K   \u001b[90m━━━━━━━━━━━━━━━━━━━━━━━━━━━━━━━━━━━━━━━━\u001b[0m \u001b[32m2.3/2.3 MB\u001b[0m \u001b[31m24.7 MB/s\u001b[0m eta \u001b[36m0:00:00\u001b[0m\n",
            "\u001b[?25hInstalling collected packages: pycryptodome\n",
            "Successfully installed pycryptodome-3.21.0\n"
          ]
        }
      ]
    },
    {
      "cell_type": "code",
      "source": [
        "# Import necessary modules\n",
        "\n",
        "\n",
        "from Crypto.Cipher import AES\n",
        "from Crypto.Util.Padding import pad, unpad\n",
        "from Crypto.Random import get_random_bytes\n",
        "\n",
        "# Set AES block size and key size\n",
        "BLOCK_SIZE = 16  # AES block size is 128 bits\n",
        "KEY_SIZE = 16  # AES-128 uses a 16-byte (128-bit) key (use 24 for AES-192 or 32 for AES-256)\n",
        "\n",
        "# Generate a random AES key\n",
        "key = get_random_bytes(KEY_SIZE)\n",
        "print(f\"AES Key: {key.hex()}\")\n",
        "\n",
        "# Generate a random Initialization Vector (IV)\n",
        "iv = get_random_bytes(BLOCK_SIZE)\n",
        "print(f\"IV: {iv.hex()}\")\n",
        "\n",
        "# Function to encrypt data\n",
        "def aes_encrypt(data, key, iv):\n",
        "    # Initialize AES cipher in CBC mode\n",
        "    cipher = AES.new(key, AES.MODE_CBC, iv)\n",
        "\n",
        "    # Pad data to be a multiple of BLOCK_SIZE\n",
        "    padded_data = pad(data.encode(), BLOCK_SIZE)\n",
        "\n",
        "    # Encrypt the padded data\n",
        "    ciphertext = cipher.encrypt(padded_data)\n",
        "\n",
        "    return ciphertext\n",
        "\n",
        "# Function to decrypt data\n",
        "def aes_decrypt(ciphertext, key, iv):\n",
        "    # Initialize AES cipher in CBC mode\n",
        "    cipher = AES.new(key, AES.MODE_CBC, iv)\n",
        "\n",
        "    # Decrypt the ciphertext\n",
        "    decrypted_data = cipher.decrypt(ciphertext)\n",
        "\n",
        "    # Unpad the decrypted data\n",
        "    unpadded_data = unpad(decrypted_data, BLOCK_SIZE)\n",
        "\n",
        "    return unpadded_data.decode()\n",
        "\n",
        "# Example usage\n",
        "if __name__ == \"__main__\":\n",
        "    # Input data to encrypt\n",
        "    plaintext = \"This is a secret message.\"\n",
        "    print(f\"Plaintext: {plaintext}\")\n",
        "\n",
        "    # Encrypt the data\n",
        "    encrypted_data = aes_encrypt(plaintext, key, iv)\n",
        "    print(f\"Encrypted Data: {encrypted_data.hex()}\")\n",
        "\n",
        "    # Decrypt the data\n",
        "    decrypted_data = aes_decrypt(encrypted_data, key, iv)\n",
        "    print(f\"Decrypted Data: {decrypted_data}\")\n"
      ],
      "metadata": {
        "colab": {
          "base_uri": "https://localhost:8080/"
        },
        "id": "SbF0smEnvttt",
        "outputId": "74e2c78c-cba5-43a2-eb0c-f9b782872694"
      },
      "execution_count": 13,
      "outputs": [
        {
          "output_type": "stream",
          "name": "stdout",
          "text": [
            "AES Key: 9b383806bfc0463bd73a8e55e926464c\n",
            "IV: 4e4dd00ef4a3699c0f6f4239b2c4c742\n",
            "Plaintext: This is a secret message.\n",
            "Encrypted Data: 14b238f02ab14321921cf071e1eb8b4bdfb5832b4e8760bcbc0ced56e39adddf\n",
            "Decrypted Data: This is a secret message.\n"
          ]
        }
      ]
    },
    {
      "cell_type": "code",
      "source": [
        "#7 Keyed Cipher (Example Using Caesar Cipher)\n",
        "def keyed_cipher_encrypt(text, key):\n",
        "    return additive_encrypt(text, key)\n",
        "\n",
        "# Example usage\n",
        "text = \"HELLO\"\n",
        "key = 5\n",
        "encrypted_text = keyed_cipher_encrypt(text, key)\n",
        "print(f\"Encrypted Text: {encrypted_text}\")\n"
      ],
      "metadata": {
        "colab": {
          "base_uri": "https://localhost:8080/"
        },
        "id": "FSBsc2Imvxox",
        "outputId": "3f2c3819-cd07-4fce-b4e1-87eedee5d95a"
      },
      "execution_count": 9,
      "outputs": [
        {
          "output_type": "stream",
          "name": "stdout",
          "text": [
            "Encrypted Text: MJQQT\n"
          ]
        }
      ]
    },
    {
      "cell_type": "code",
      "source": [
        "#8. Diffie-Hellman Key Exchange (Python)\n",
        "def diffie_hellman(p, g, private_a, private_b):\n",
        "    # Calculate public keys\n",
        "    public_a = (g ** private_a) % p\n",
        "    public_b = (g ** private_b) % p\n",
        "\n",
        "    # Calculate shared secret\n",
        "    shared_secret_a = (public_b ** private_a) % p\n",
        "    shared_secret_b = (public_a ** private_b) % p\n",
        "\n",
        "    return shared_secret_a, shared_secret_b\n",
        "\n",
        "# Example usage\n",
        "p = 23  # Prime number\n",
        "g = 5   # Primitive root\n",
        "private_a = 6\n",
        "private_b = 15\n",
        "shared_a, shared_b = diffie_hellman(p, g, private_a, private_b)\n",
        "print(f\"Shared Secret: {shared_a}\")\n"
      ],
      "metadata": {
        "colab": {
          "base_uri": "https://localhost:8080/"
        },
        "id": "Jh0Ji6fkvRt4",
        "outputId": "12e6a694-2433-4ee3-85a3-429de9147d34"
      },
      "execution_count": 18,
      "outputs": [
        {
          "output_type": "stream",
          "name": "stdout",
          "text": [
            "Shared Secret: 2\n"
          ]
        }
      ]
    },
    {
      "cell_type": "code",
      "source": [
        "#9\n",
        "from Crypto.PublicKey import RSA\n",
        "from Crypto.Cipher import PKCS1_OAEP\n",
        "from Crypto.Random import get_random_bytes\n",
        "\n",
        "def rsa_encrypt_decrypt(message):\n",
        "    key = RSA.generate(2048)\n",
        "    cipher = PKCS1_OAEP.new(key)\n",
        "    ciphertext = cipher.encrypt(message.encode())\n",
        "    plaintext = cipher.decrypt(ciphertext)\n",
        "    return ciphertext, plaintext\n",
        "\n",
        "# Example usage:\n",
        "message = \"HELLO\"\n",
        "ciphertext, plaintext = rsa_encrypt_decrypt(message)\n",
        "print(\"Ciphertext:\", ciphertext)\n",
        "print(\"Plaintext:\", plaintext.decode())\n"
      ],
      "metadata": {
        "colab": {
          "base_uri": "https://localhost:8080/"
        },
        "id": "XJynyMBYvUG1",
        "outputId": "a1ab7a2a-9a1a-478a-f24a-49a93d134a31"
      },
      "execution_count": 19,
      "outputs": [
        {
          "output_type": "stream",
          "name": "stdout",
          "text": [
            "Ciphertext: b'\\x1fZ\\xd6l\\xa1\\xc7\\xd8U\\x8a\\x87\\xfa\\x18\\xcel\\xa2{C\\x00\\xf6-k8\\xe4\\xf0\\xef\\xc3\\x1b|\\xd7\"\\xafV\\x83\\xbe1\\x1a\\x9e\\xd6\\x95\\xb0xz\\xa3\\x031C\\x1c\\xb73F\\xe7\\xb5`psq\\xd1}\\x84\\xcc\\xa1\\x06\\xbbRO\\x8dK~\\r\\xa4\\x13bZp\\xc6-O&b\\xb2)^b\\xe4z pd*\\xc0L}\\nv\\xa0& \\xf4@\\xb3\\xf7\\\\M\\xa3^G\\xaf\\xfc\\xc5\\xe7\\xce\\x19\\xc7\\x92\\x14\\xe4\\x99.\\xcc\\x8a9\\x8f\\x8eT{\\xa3\\x8fl\\rT\\xb7\\xafT\\x11\\xe8\\xb6\\x93\\xf3\\xf2\\xd2\\xa0u\\xa7x\\x84\\x95K_\\x84\\xe0\\xc7\\x7fd\\xe5\\xea\\x85\\x1d\\xb7+\\xaf\\x90q\\xf3\\x16\\x1d\\x8fJ\\x8akD\\x1e\\xc2l\\xfcV\\x86~\\xeb\\x9a\\xbd\\xbe[\\xf1o\\xf4Eg\\xc7)a}\\xf0\\xa7W\\xbaNA\\x0f~\\xd2\\x85\\x83^X\\x01\\x87\\xd5\\xe7,\\xe7\\xa4%\\x84\\xf5\\xb7\\xaf8\\x00\\x01\\xd9\\xd8U~\\x8e\\x12}\\x1al\\x08\\xa2\\x9eI.\\x18/\\xbb\\xcf\\xbb\\xfeN\\xca\\x8b\\xe2\\\\\\r\\xc65f\\xbb\\x94h\\xc9\\x06\\xf1!\\x0f'\n",
            "Plaintext: HELLO\n"
          ]
        }
      ]
    },
    {
      "cell_type": "code",
      "source": [
        "#10. Multiplicative Cipher (Python)\n",
        "def multiplicative_encrypt(text, key):\n",
        "    encrypted_text = \"\"\n",
        "    for char in text.upper():\n",
        "        if char.isalpha():\n",
        "            encrypted_text += chr(((ord(char) - 65) * key % 26) + 65)\n",
        "    return encrypted_text\n",
        "\n",
        "# Example usage\n",
        "text = \"HELLO\"\n",
        "key = 5\n",
        "encrypted = multiplicative_encrypt(text, key)\n",
        "print(f\"Encrypted Text: {encrypted}\")\n"
      ],
      "metadata": {
        "colab": {
          "base_uri": "https://localhost:8080/"
        },
        "id": "Jsbg9ab7vYG9",
        "outputId": "c1a6406a-aa5a-466b-a19b-553fca94523d"
      },
      "execution_count": 15,
      "outputs": [
        {
          "output_type": "stream",
          "name": "stdout",
          "text": [
            "Encrypted Text: JUDDS\n"
          ]
        }
      ]
    },
    {
      "cell_type": "code",
      "source": [
        "#11. Affine Cipher (Python)\n",
        "def affine_encrypt(text, a, b):\n",
        "    encrypted_text = \"\"\n",
        "    for char in text.upper():\n",
        "        if char.isalpha():\n",
        "            encrypted_text += chr(((a * (ord(char) - 65) + b) % 26) + 65)\n",
        "    return encrypted_text\n",
        "\n",
        "# Example usage\n",
        "text = \"HELLO\"\n",
        "a = 5\n",
        "b = 8\n",
        "encrypted = affine_encrypt(text, a, b)\n",
        "print(f\"Encrypted Text: {encrypted}\")\n"
      ],
      "metadata": {
        "colab": {
          "base_uri": "https://localhost:8080/"
        },
        "id": "0qN9QfNQvbKB",
        "outputId": "22dfc2f5-9633-4250-ea59-e8282a45f1b7"
      },
      "execution_count": 14,
      "outputs": [
        {
          "output_type": "stream",
          "name": "stdout",
          "text": [
            "Encrypted Text: RCLLA\n"
          ]
        }
      ]
    }
  ]
}